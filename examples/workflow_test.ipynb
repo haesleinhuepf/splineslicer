{
 "cells": [
  {
   "cell_type": "code",
   "execution_count": 12,
   "metadata": {
    "collapsed": true
   },
   "outputs": [],
   "source": [
    "from napari_workflows import Workflow"
   ]
  },
  {
   "cell_type": "code",
   "execution_count": 13,
   "outputs": [],
   "source": [
    "w = Workflow()"
   ],
   "metadata": {
    "collapsed": false,
    "pycharm": {
     "name": "#%%\n"
    }
   }
  },
  {
   "cell_type": "code",
   "execution_count": 14,
   "outputs": [],
   "source": [
    "from splineslicer.skeleton.binarize import binarize_image\n",
    "\n",
    "# binarize the image\n",
    "w.set(\n",
    "    \"binarized\",\n",
    "    binarize_image,\n",
    "    \"input\",\n",
    "    channel=1,\n",
    "    threshold=0.5,\n",
    "    closing_size=3\n",
    ")\n"
   ],
   "metadata": {
    "collapsed": false,
    "pycharm": {
     "name": "#%%\n"
    }
   }
  },
  {
   "cell_type": "code",
   "execution_count": 15,
   "outputs": [],
   "source": [
    "from splineslicer.skeleton.skeletonize import make_skeleton\n",
    "\n",
    "# create skeleton\n",
    "w.set(\n",
    "    \"skeleton\", make_skeleton, \"binarized\", min_branch_length=10\n",
    ")"
   ],
   "metadata": {
    "collapsed": false,
    "pycharm": {
     "name": "#%%\n"
    }
   }
  },
  {
   "cell_type": "code",
   "execution_count": 16,
   "outputs": [],
   "source": [
    "from splineslicer.spline.spline_utils import fit_spline_to_skeleton\n",
    "\n",
    "def fit_spline(\n",
    "        skeleton_output,\n",
    "        segments_to_flip,\n",
    "        segments_to_keep,\n",
    "        order_image_shape,\n",
    "        order: int = 3,\n",
    "        n_ctrl_pts: int = 25,\n",
    "):\n",
    "    skeleton_obj = skeleton_output[1]\n",
    "\n",
    "    spline, order_image = fit_spline_to_skeleton(\n",
    "        skeleton_obj=skeleton_obj,\n",
    "        segments_to_flip=segments_to_flip,\n",
    "        segments_to_keep=segments_to_keep,\n",
    "        order_image_shape=order_image_shape,\n",
    "        order=order,\n",
    "        n_ctrl_pts=n_ctrl_pts,\n",
    "    )\n",
    "\n",
    "    return spline, order_image\n",
    "\n",
    "# fit spline\n",
    "w.set(\n",
    "    \"spline\",\n",
    "    fit_spline,\n",
    "    \"skeleton\",\n",
    "    segments_to_flip=[],\n",
    "    segments_to_keep=[0],\n",
    "    order_image_shape=(448, 505, 505),\n",
    "    order=3,\n",
    "    n_ctrl_pts=25\n",
    ")"
   ],
   "metadata": {
    "collapsed": false,
    "pycharm": {
     "name": "#%%\n"
    }
   }
  },
  {
   "cell_type": "code",
   "execution_count": 17,
   "outputs": [],
   "source": [
    "import h5py\n",
    "\n",
    "# load image\n",
    "fpath = '/Users/kyamauch/Documents/neural_tube_analysis/full_data_20210615/converted_images_20210716/nt_25s-raw_rescaled_Probabilities.h5'\n",
    "\n",
    "with h5py.File(fpath, 'r') as f:\n",
    "    im = f['exported_data'][:]"
   ],
   "metadata": {
    "collapsed": false,
    "pycharm": {
     "name": "#%%\n"
    }
   }
  },
  {
   "cell_type": "code",
   "execution_count": 18,
   "outputs": [
    {
     "name": "stdout",
     "output_type": "stream",
     "text": [
      "Workflow:\n",
      "binarized <- (<function binarize_image at 0x7fb3e73cad30>, 'input', 1, 0.5, 3)\n",
      "skeleton <- (<function make_skeleton at 0x7fb3e80cb1f0>, 'binarized', 10)\n",
      "spline <- (<function fit_spline at 0x7fb28d443940>, 'skeleton', [], [0], (448, 505, 505), 3, 25)\n",
      "\n"
     ]
    }
   ],
   "source": [
    "# Let's print out the whole workflow\n",
    "print(str(w))\n"
   ],
   "metadata": {
    "collapsed": false,
    "pycharm": {
     "name": "#%%\n"
    }
   }
  },
  {
   "cell_type": "code",
   "execution_count": 19,
   "outputs": [
    {
     "name": "stdout",
     "output_type": "stream",
     "text": [
      "Workflow:\n",
      "binarized <- (<function binarize_image at 0x7fb3e73cad30>, 'input', 1, 0.5, 3)\n",
      "skeleton <- (<function make_skeleton at 0x7fb3e80cb1f0>, 'binarized', 10)\n",
      "spline <- (<function fit_spline at 0x7fb28d443940>, 'skeleton', [], [0], (448, 505, 505), 3, 25)\n",
      "input <- [[[[0.99 1.   1.   ... 1.   1.   0.99]\n",
      "   [1.   1.   1.   ... 1.   1.   1.  ]\n",
      "   [1.   1.   1.   ... 1.   1.   1.  ]\n",
      "   ...\n",
      "   [1.   1.   1.   ... 1.   1.   1.  ]\n",
      "   [1.   1.   1.   ... 1.   1.   1.  ]\n",
      "   [0.99 1.   1.   ... 1.   1.   0.99]]\n",
      "\n",
      "  [[1.   1.   1.   ... 1.   1.   1.  ]\n",
      "   [1.   1.   1.   ... 1.   1.   1.  ]\n",
      "   [1.   1.   1.   ... 1.   1.   1.  ]\n",
      "   ...\n",
      "   [1.   1.   1.   ... 1.   1.   1.  ]\n",
      "   [1.   1.   1.   ... 1.   1.   1.  ]\n",
      "   [1.   1.   1.   ... 1.   1.   1.  ]]\n",
      "\n",
      "  [[1.   1.   1.   ... 1.   1.   1.  ]\n",
      "   [1.   1.   1.   ... 1.   1.   1.  ]\n",
      "   [1.   1.   1.   ... 1.   1.   1.  ]\n",
      "   ...\n",
      "   [1.   1.   1.   ... 1.   1.   1.  ]\n",
      "   [1.   1.   1.   ... 1.   1.   1.  ]\n",
      "   [1.   1.   1.   ... 1.   1.   1.  ]]\n",
      "\n",
      "  ...\n",
      "\n",
      "  [[1.   1.   1.   ... 1.   1.   1.  ]\n",
      "   [1.   1.   1.   ... 1.   1.   1.  ]\n",
      "   [1.   1.   1.   ... 1.   1.   1.  ]\n",
      "   ...\n",
      "   [1.   1.   1.   ... 1.   1.   1.  ]\n",
      "   [1.   1.   1.   ... 1.   1.   1.  ]\n",
      "   [1.   1.   1.   ... 1.   1.   1.  ]]\n",
      "\n",
      "  [[1.   1.   1.   ... 1.   1.   1.  ]\n",
      "   [1.   1.   1.   ... 1.   1.   1.  ]\n",
      "   [1.   1.   1.   ... 1.   1.   1.  ]\n",
      "   ...\n",
      "   [1.   1.   1.   ... 1.   1.   1.  ]\n",
      "   [1.   1.   1.   ... 1.   1.   1.  ]\n",
      "   [1.   1.   1.   ... 1.   1.   1.  ]]\n",
      "\n",
      "  [[0.99 1.   1.   ... 1.   1.   0.99]\n",
      "   [1.   1.   1.   ... 1.   1.   1.  ]\n",
      "   [1.   1.   1.   ... 1.   1.   1.  ]\n",
      "   ...\n",
      "   [1.   1.   1.   ... 1.   1.   1.  ]\n",
      "   [1.   1.   1.   ... 1.   1.   1.  ]\n",
      "   [0.99 1.   1.   ... 1.   1.   0.99]]]\n",
      "\n",
      "\n",
      " [[[0.01 0.   0.   ... 0.   0.   0.01]\n",
      "   [0.   0.   0.   ... 0.   0.   0.  ]\n",
      "   [0.   0.   0.   ... 0.   0.   0.  ]\n",
      "   ...\n",
      "   [0.   0.   0.   ... 0.   0.   0.  ]\n",
      "   [0.   0.   0.   ... 0.   0.   0.  ]\n",
      "   [0.01 0.   0.   ... 0.   0.   0.01]]\n",
      "\n",
      "  [[0.   0.   0.   ... 0.   0.   0.  ]\n",
      "   [0.   0.   0.   ... 0.   0.   0.  ]\n",
      "   [0.   0.   0.   ... 0.   0.   0.  ]\n",
      "   ...\n",
      "   [0.   0.   0.   ... 0.   0.   0.  ]\n",
      "   [0.   0.   0.   ... 0.   0.   0.  ]\n",
      "   [0.   0.   0.   ... 0.   0.   0.  ]]\n",
      "\n",
      "  [[0.   0.   0.   ... 0.   0.   0.  ]\n",
      "   [0.   0.   0.   ... 0.   0.   0.  ]\n",
      "   [0.   0.   0.   ... 0.   0.   0.  ]\n",
      "   ...\n",
      "   [0.   0.   0.   ... 0.   0.   0.  ]\n",
      "   [0.   0.   0.   ... 0.   0.   0.  ]\n",
      "   [0.   0.   0.   ... 0.   0.   0.  ]]\n",
      "\n",
      "  ...\n",
      "\n",
      "  [[0.   0.   0.   ... 0.   0.   0.  ]\n",
      "   [0.   0.   0.   ... 0.   0.   0.  ]\n",
      "   [0.   0.   0.   ... 0.   0.   0.  ]\n",
      "   ...\n",
      "   [0.   0.   0.   ... 0.   0.   0.  ]\n",
      "   [0.   0.   0.   ... 0.   0.   0.  ]\n",
      "   [0.   0.   0.   ... 0.   0.   0.  ]]\n",
      "\n",
      "  [[0.   0.   0.   ... 0.   0.   0.  ]\n",
      "   [0.   0.   0.   ... 0.   0.   0.  ]\n",
      "   [0.   0.   0.   ... 0.   0.   0.  ]\n",
      "   ...\n",
      "   [0.   0.   0.   ... 0.   0.   0.  ]\n",
      "   [0.   0.   0.   ... 0.   0.   0.  ]\n",
      "   [0.   0.   0.   ... 0.   0.   0.  ]]\n",
      "\n",
      "  [[0.01 0.   0.   ... 0.   0.   0.01]\n",
      "   [0.   0.   0.   ... 0.   0.   0.  ]\n",
      "   [0.   0.   0.   ... 0.   0.   0.  ]\n",
      "   ...\n",
      "   [0.   0.   0.   ... 0.   0.   0.  ]\n",
      "   [0.   0.   0.   ... 0.   0.   0.  ]\n",
      "   [0.01 0.   0.   ... 0.   0.   0.01]]]]\n",
      "\n"
     ]
    }
   ],
   "source": [
    "w.set(\"input\", im)\n",
    "\n",
    "print(str(w))"
   ],
   "metadata": {
    "collapsed": false,
    "pycharm": {
     "name": "#%%\n"
    }
   }
  },
  {
   "cell_type": "code",
   "execution_count": 20,
   "outputs": [],
   "source": [
    "spline_data = w.get(\"spline\")\n"
   ],
   "metadata": {
    "collapsed": false,
    "pycharm": {
     "name": "#%%\n"
    }
   }
  },
  {
   "cell_type": "code",
   "execution_count": 23,
   "outputs": [
    {
     "name": "stdout",
     "output_type": "stream",
     "text": [
      "<class 'geomdl.BSpline.Curve'>\n",
      "<class 'numpy.ndarray'>\n"
     ]
    }
   ],
   "source": [
    "print(type(spline_data[0]))\n",
    "print(type(spline_data[1]))"
   ],
   "metadata": {
    "collapsed": false,
    "pycharm": {
     "name": "#%%\n"
    }
   }
  }
 ],
 "metadata": {
  "kernelspec": {
   "display_name": "Python 3",
   "language": "python",
   "name": "python3"
  },
  "language_info": {
   "codemirror_mode": {
    "name": "ipython",
    "version": 2
   },
   "file_extension": ".py",
   "mimetype": "text/x-python",
   "name": "python",
   "nbconvert_exporter": "python",
   "pygments_lexer": "ipython2",
   "version": "2.7.6"
  }
 },
 "nbformat": 4,
 "nbformat_minor": 0
}